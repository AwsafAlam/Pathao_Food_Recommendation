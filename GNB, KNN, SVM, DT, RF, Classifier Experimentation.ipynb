{
 "cells": [
  {
   "cell_type": "code",
   "execution_count": 1,
   "metadata": {
    "collapsed": true
   },
   "outputs": [],
   "source": [
    "fileName =\"data_in_numeric_form.csv\"\n",
    "\n",
    "import pandas\n",
    "import numpy as np\n",
    "import heapq\n",
    "\n",
    "data= pandas.read_csv(fileName)"
   ]
  },
  {
   "cell_type": "code",
   "execution_count": 2,
   "metadata": {
    "scrolled": true
   },
   "outputs": [
    {
     "name": "stdout",
     "output_type": "stream",
     "text": [
      "[[16310 34533     7 ...,     0  3265     1]\n",
      " [40318 34533     3 ...,     0  3265     1]\n",
      " [61698 34533     6 ...,     0  3265     1]\n",
      " ..., \n",
      " [34260   774     4 ...,    46  1521     1]\n",
      " [ 5353 15645     1 ...,    46   216     1]\n",
      " [14523 15645     2 ...,    46   216     1]]\n"
     ]
    }
   ],
   "source": [
    "#data\n",
    "features = [2,3,4,5,6]\n",
    "label = 1\n",
    "data_mat = data.values[:,1:]\n",
    "print(data_mat)\n",
    "pivot = int(len(data_mat)*.8)\n",
    "X_tr = data_mat[:pivot,features].astype(np.int)\n",
    "Y_tr = data_mat[:pivot,label].astype(np.int)\n",
    "X_test = data_mat[pivot:,features].astype(np.int)\n",
    "Y_test = data_mat[pivot:,label].astype(np.int)"
   ]
  },
  {
   "cell_type": "code",
   "execution_count": null,
   "metadata": {},
   "outputs": [],
   "source": [
    "from sklearn.neighbors import KNeighborsClassifier\n",
    "from sklearn.naive_bayes import GaussianNB\n",
    "from sklearn import svm\n",
    "from sklearn import tree\n",
    "from sklearn.ensemble import RandomForestClassifier\n",
    "#clf = KNeighborsClassifier(n_neighbors=5)\n",
    "#clf = GaussianNB()\n",
    "#clf = tree.DecisionTreeClassifier(max_depth = 20)\n",
    "clf = RandomForestClassifier(n_estimators=100, max_depth=2,random_state=0)\n",
    "#clf = svm.SVC(gamma=0.001, decision_function_shape='ovo', max_iter=2)\n",
    "#print(type(X_tr[0][0]))\n",
    "clf.fit(X_tr, Y_tr)"
   ]
  },
  {
   "cell_type": "code",
   "execution_count": 5,
   "metadata": {},
   "outputs": [
    {
     "name": "stdout",
     "output_type": "stream",
     "text": [
      "[ 1.  0.  0.  0.  0.  0.  0.  0.  0.  0.  0.  0.  0.  0.  0.  0.  0.  0.\n",
      "  0.  0.  0.  0.  0.  0.  0.  0.  0.  0.  0.  0.  0.  0.  0.  0.  0.  0.\n",
      "  0.  0.  0.  0.]\n",
      "[ 7139 53402 17726 17735 17734 17733 17731 17730 17729 17728 17727 17725\n",
      " 17738 17724 17723 17721 17719 17718 17717 17716 17736 17739 17766 17740\n",
      " 17764 17763 17762 17761 17759 17758 17757 17756 17754 17753 17752 17750\n",
      " 17749 17748 17747 17745]\n",
      "[   3    5 3912   32  710]\n",
      "6298\n"
     ]
    }
   ],
   "source": [
    "testNum = 5\n",
    "highestProbabN = 40\n",
    "probab = clf.predict_proba(X_test[testNum].reshape(1, -1))[0]\n",
    "maxIndex = np.argsort(probab)[::-1][:highestProbabN]\n",
    "print(probab[maxIndex])\n",
    "print(clf.classes_[maxIndex])\n",
    "print(X_test[testNum])\n",
    "print(Y_test[testNum])"
   ]
  },
  {
   "cell_type": "code",
   "execution_count": null,
   "metadata": {
    "scrolled": true
   },
   "outputs": [],
   "source": [
    "temp = np.where((X_test[:,0] == X_test[testNum][0]) & (X_test[:,1] == X_test[testNum][1]))\n",
    "#print(temp)\n",
    "y_ = Y_test[temp]\n",
    "np.where(y_==5149)"
   ]
  },
  {
   "cell_type": "code",
   "execution_count": null,
   "metadata": {},
   "outputs": [],
   "source": []
  },
  {
   "cell_type": "code",
   "execution_count": null,
   "metadata": {},
   "outputs": [],
   "source": [
    "### for decision tree\n"
   ]
  },
  {
   "cell_type": "code",
   "execution_count": null,
   "metadata": {
    "collapsed": true
   },
   "outputs": [],
   "source": []
  }
 ],
 "metadata": {
  "kernelspec": {
   "display_name": "Python 3",
   "language": "python",
   "name": "python3"
  },
  "language_info": {
   "codemirror_mode": {
    "name": "ipython",
    "version": 3
   },
   "file_extension": ".py",
   "mimetype": "text/x-python",
   "name": "python",
   "nbconvert_exporter": "python",
   "pygments_lexer": "ipython3",
   "version": "3.6.3"
  }
 },
 "nbformat": 4,
 "nbformat_minor": 2
}
