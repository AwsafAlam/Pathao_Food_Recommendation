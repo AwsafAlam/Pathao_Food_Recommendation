{
 "cells": [
  {
   "cell_type": "code",
   "execution_count": 104,
   "metadata": {
    "collapsed": true
   },
   "outputs": [],
   "source": [
    "fileName =\"data_2_.csv\""
   ]
  },
  {
   "cell_type": "code",
   "execution_count": 105,
   "metadata": {
    "collapsed": true
   },
   "outputs": [],
   "source": [
    "import pandas\n",
    "import numpy as np\n",
    "import heapq"
   ]
  },
  {
   "cell_type": "code",
   "execution_count": 169,
   "metadata": {
    "collapsed": true
   },
   "outputs": [],
   "source": [
    "data= pandas.read_csv(fileName)"
   ]
  },
  {
   "cell_type": "code",
   "execution_count": 170,
   "metadata": {},
   "outputs": [
    {
     "name": "stdout",
     "output_type": "stream",
     "text": [
      "323138\n"
     ]
    },
    {
     "data": {
      "text/plain": [
       "array([[-771899697155891775, 50869, 4, ..., '7b10c77f-aac', 0, 1],\n",
       "       [1510112086545274614, 16982, 2, ..., '7b10c77f-aac', 0, 1],\n",
       "       [-6872960916617605148, 824, 5, ..., 'b2474220-96c', 0, 1],\n",
       "       ..., \n",
       "       [5867166128242373928, 17525, 6, ..., '769e8210-976', 3356, 1],\n",
       "       [-3277971590148499419, 26101, 3, ..., 'c9aa3993-86f', 3356, 1],\n",
       "       [430533841450840734, 395, 7, ..., 'bda1ca0b-070', 3356, 1]], dtype=object)"
      ]
     },
     "execution_count": 170,
     "metadata": {},
     "output_type": "execute_result"
    }
   ],
   "source": [
    "data_sorted = data.sort_values(['restaurant_id'], ascending=True)\n",
    "data_sorted_array = data_sorted.values\n",
    "setRestaurantID = set(data[\"restaurant_id\"])\n",
    "restaurantID = np.sort(list(setRestaurantID))\n",
    "\"\"\"\n",
    "i = 0\n",
    "j = 0\n",
    "print(data_sorted_array[i,7], restaurantID[j])\n",
    "\"\"\"\n",
    "size = len(data_sorted_array)\n",
    "print(size)\n",
    "j=0\n",
    "for i in range(size):\n",
    "    while(data_sorted_array[i,7] != restaurantID[j]):\n",
    "        #print(i, j)\n",
    "        j+=1\n",
    "    data_sorted_array[i, 7] = j\n",
    "    \n",
    "data_sorted_array = data_sorted_array[:,1:]\n",
    "data_sorted_array"
   ]
  },
  {
   "cell_type": "code",
   "execution_count": 171,
   "metadata": {
    "collapsed": true
   },
   "outputs": [],
   "source": [
    "data_sorted_array = np.array(sorted(data_sorted_array, key=lambda a_entry: a_entry[0]) )\n",
    "userID_set = set(data_sorted[\"user_id\"])\n",
    "userID_list = np.sort(list(userID_set))\n",
    "size = len(data_sorted_array)\n",
    "j=0\n",
    "\"\"\"\n",
    "i = -1\n",
    "j = -1\n",
    "print(data_sorted_array[i,0], userID_list[j])\n",
    "\"\"\"\n",
    "for i in range(size):\n",
    "    while(data_sorted_array[i,0] != userID_list[j]):\n",
    "        #print(i, j)\n",
    "        j+=1\n",
    "    data_sorted_array[i, 0] = j"
   ]
  },
  {
   "cell_type": "code",
   "execution_count": 172,
   "metadata": {},
   "outputs": [
    {
     "name": "stdout",
     "output_type": "stream",
     "text": [
      "[[20254 10104 5 18 nan '7b10c77f-aac' 843 1]\n",
      " [20254 19434 5 18 nan '7b10c77f-aac' 843 1]\n",
      " [20254 28902 5 18 nan '6fcdf421-55d' 843 1]\n",
      " [20254 20490 5 18 nan '7b10c77f-aac' 843 1]\n",
      " [21840 15132 7 23 nan '7b10c77f-aac' 154 1]]\n"
     ]
    },
    {
     "data": {
      "text/plain": [
       "array(['fff2d0b0-9e4', 'fff55c7e-1ed', 'fff6b57c-752', 'fffda23f-efd',\n",
       "       'nan'],\n",
       "      dtype='<U32')"
      ]
     },
     "execution_count": 172,
     "metadata": {},
     "output_type": "execute_result"
    }
   ],
   "source": [
    "data_sorted_array = np.array(sorted(data_sorted_array, key=lambda a_entry: str(a_entry[4])) )\n",
    "print(data_sorted_array[-5:])\n",
    "categoryID_set = set(data_sorted[\"category_id\"])\n",
    "categoryID_list = np.sort(list(categoryID_set))\n",
    "#print(categoryID_list, categoryID_set)\n",
    "size = len(data_sorted_array)\n",
    "categoryID_list[-5:]"
   ]
  },
  {
   "cell_type": "code",
   "execution_count": 173,
   "metadata": {},
   "outputs": [
    {
     "name": "stdout",
     "output_type": "stream",
     "text": [
      "<class 'float'> <class 'numpy.str_'>\n",
      "nan nan\n"
     ]
    }
   ],
   "source": [
    "#\"\"\"\n",
    "i = -1\n",
    "j = -1\n",
    "#data_sorted_array[:,4].replace(np.nan,\"nan\")\n",
    "print(type(data_sorted_array[i,4]), type(categoryID_list[j]))\n",
    "print((data_sorted_array[i,4]), (categoryID_list[j]))\n",
    "#\"\"\"\n",
    "j=0\n",
    "for i in range(size):\n",
    "    if type(data_sorted_array[i,4]) == float:\n",
    "#        print(data_sorted_array[i,4])\n",
    "        data_sorted_array[i,4] = \"nan\"\n",
    "    while(data_sorted_array[i,4] != categoryID_list[j]):\n",
    "#        print(i, j)\n",
    "        j+=1\n",
    "    data_sorted_array[i, 4] = j\n",
    "#\"\"\""
   ]
  },
  {
   "cell_type": "code",
   "execution_count": 174,
   "metadata": {
    "collapsed": true
   },
   "outputs": [
    {
     "name": "stdout",
     "output_type": "stream",
     "text": [
      "[[55480 34863 7 6 15117 'fe93edb5-39e' 965 1]\n",
      " [61374 34863 5 3 15117 'fe93edb5-39e' 965 1]\n",
      " [34260 774 4 20 6306 nan 1521 1]\n",
      " [5353 15645 1 3 10643 nan 216 1]\n",
      " [14523 15645 2 1 10643 nan 216 1]]\n",
      "<class 'float'> <class 'numpy.str_'>\n",
      "nan nan\n",
      "16749 0\n",
      "26748 1\n",
      "27323 2\n",
      "37141 3\n",
      "47300 4\n",
      "58967 5\n",
      "60047 6\n",
      "60569 7\n",
      "72121 8\n",
      "125426 9\n",
      "126798 10\n",
      "144013 11\n",
      "146803 12\n",
      "149600 13\n",
      "151132 14\n",
      "151135 15\n",
      "151527 16\n",
      "157547 17\n",
      "162925 18\n",
      "162941 19\n",
      "174752 20\n",
      "177052 21\n",
      "177213 22\n",
      "203599 23\n",
      "205116 24\n",
      "207173 25\n",
      "209043 26\n",
      "246620 27\n",
      "247219 28\n",
      "247323 29\n",
      "252794 30\n",
      "253331 31\n",
      "277101 32\n",
      "278816 33\n",
      "293252 34\n",
      "293767 35\n",
      "295001 36\n",
      "295014 37\n",
      "299119 38\n",
      "302458 39\n",
      "309374 40\n",
      "309450 41\n",
      "318810 42\n",
      "318896 43\n",
      "319213 44\n",
      "nan\n",
      "323135 45\n",
      "nan\n",
      "nan\n"
     ]
    }
   ],
   "source": [
    "data_sorted_array = np.array(sorted(data_sorted_array, key=lambda a_entry: str(a_entry[5])) )\n",
    "print(data_sorted_array[-5:])\n",
    "cusineID_set = set(data_sorted[\"cusine_id\"])\n",
    "cusineID_list = np.sort(list(cusineID_set))\n",
    "size = len(data_sorted_array)\n",
    "cusineID_list[-5:]\n",
    "\n",
    "#\"\"\"\n",
    "i = -1\n",
    "j = -1\n",
    "print(type(data_sorted_array[i,5]), type(cusineID_list[j]))\n",
    "print((data_sorted_array[i,5]), (cusineID_list[j]))\n",
    "#\"\"\"\n",
    "\n",
    "j=0\n",
    "for i in range(size):\n",
    "    if type(data_sorted_array[i,5]) == float:\n",
    "        print(data_sorted_array[i,5])\n",
    "        data_sorted_array[i,5] = \"nan\"\n",
    "    while(data_sorted_array[i,5] != cusineID_list[j]):\n",
    "        print(i, j)\n",
    "        j+=1\n",
    "    data_sorted_array[i, 5] = j\n",
    "#\"\"\""
   ]
  },
  {
   "cell_type": "code",
   "execution_count": 175,
   "metadata": {
    "collapsed": true
   },
   "outputs": [],
   "source": [
    "pandas.DataFrame(data_sorted_array).to_csv(\"data_in_numeric_form.csv\")"
   ]
  },
  {
   "cell_type": "code",
   "execution_count": 62,
   "metadata": {
    "collapsed": true
   },
   "outputs": [],
   "source": [
    "import numpy as np\n",
    "from sklearn.naive_bayes import GaussianNB\n",
    "clf = GaussianNB()"
   ]
  },
  {
   "cell_type": "code",
   "execution_count": 63,
   "metadata": {
    "collapsed": true
   },
   "outputs": [],
   "source": [
    "pivot = int(len(data_sorted_array)*.8)"
   ]
  },
  {
   "cell_type": "code",
   "execution_count": 64,
   "metadata": {
    "collapsed": true
   },
   "outputs": [],
   "source": [
    "X_train = data_sorted_array[:pivot,[2,3]]\n",
    "Y_train = data_sorted_array[:pivot,1].astype(np.int)\n",
    "X_test = data_sorted_array[pivot:,[2,3]]\n",
    "Y_test = data_sorted_array[pivot:,1].astype(np.int)"
   ]
  },
  {
   "cell_type": "code",
   "execution_count": 65,
   "metadata": {
    "scrolled": true
   },
   "outputs": [
    {
     "data": {
      "text/plain": [
       "GaussianNB(priors=None)"
      ]
     },
     "execution_count": 65,
     "metadata": {},
     "output_type": "execute_result"
    }
   ],
   "source": [
    "clf.fit(X_train, Y_train)"
   ]
  },
  {
   "cell_type": "code",
   "execution_count": 66,
   "metadata": {},
   "outputs": [
    {
     "data": {
      "text/plain": [
       "array([3, 2], dtype=object)"
      ]
     },
     "execution_count": 66,
     "metadata": {},
     "output_type": "execute_result"
    }
   ],
   "source": [
    "#print(np.where((X[:,0] == -6) & (X[:,1] == -23) & (X[:,2] == -3356)))\n",
    "X[28526]"
   ]
  },
  {
   "cell_type": "code",
   "execution_count": 67,
   "metadata": {},
   "outputs": [
    {
     "name": "stdout",
     "output_type": "stream",
     "text": [
      "[27495 15276 42632 ..., 50395  1748 36894]\n"
     ]
    }
   ],
   "source": [
    "#print(Y[323120], Y[323126], Y[323133], Y[323135])\n",
    "print(Y)\n",
    "#print(data_sorted_array[323120], data_sorted_array[323126], data_sorted_array[323133], data_sorted_array[323135])"
   ]
  },
  {
   "cell_type": "code",
   "execution_count": 97,
   "metadata": {},
   "outputs": [
    {
     "name": "stdout",
     "output_type": "stream",
     "text": [
      "[28418]\n"
     ]
    }
   ],
   "source": [
    "pred = [3, 2]\n",
    "print(clf.predict([pred]))"
   ]
  },
  {
   "cell_type": "code",
   "execution_count": 98,
   "metadata": {},
   "outputs": [
    {
     "name": "stdout",
     "output_type": "stream",
     "text": [
      "[ 0.00561714  0.00561714  0.00561714  0.00280857  0.00280857  0.00280857\n",
      "  0.00280857  0.00280857  0.00280857  0.00280857]\n",
      "[[1 22]\n",
      " [2 21]\n",
      " [3 23]\n",
      " [3 0]\n",
      " [6 4]\n",
      " [5 16]\n",
      " [6 23]\n",
      " [6 17]\n",
      " [7 20]\n",
      " [5 3]]\n",
      "[ 2028  2161   246 47379  3467 22055 11444 40780 20979 45814]\n"
     ]
    }
   ],
   "source": [
    "probs = clf.predict_proba([pred])\n",
    "idx = probs.argsort()[0][-10:][::-1]\n",
    "print(probs[0][idx])\n",
    "print(X_train[idx])\n",
    "print(Y_train[idx])\n"
   ]
  },
  {
   "cell_type": "code",
   "execution_count": null,
   "metadata": {
    "collapsed": true
   },
   "outputs": [],
   "source": [
    "clf.classes_"
   ]
  },
  {
   "cell_type": "code",
   "execution_count": null,
   "metadata": {
    "collapsed": true
   },
   "outputs": [],
   "source": [
    "print(clf.predict_proba([pred])[0][50334]) \n",
    "# pred = [6,23,3356] means at day=6, hour=23, restaurant=3356, probability of ordeing the item 50334 is 0.633303045812"
   ]
  },
  {
   "cell_type": "markdown",
   "metadata": {
    "collapsed": true
   },
   "source": [
    "P(item|day,hour,restaurant) = ( P(day|item)*P(hour|item)*P(restaurant|item) ) * P(item) / P(day, hour, restaurant)\n",
    "Here, P(restaurant|item) is 1, because, every item_id belongs to only one restaurant(i.e. only one restaurant_id). \n",
    "So given an item, the restaurant is always a certain one.\n",
    "As a result we can easily omit P(restaurant|item) from our calculation and condition only on \"day\" and \"hour\"."
   ]
  }
 ],
 "metadata": {
  "kernelspec": {
   "display_name": "Python 3",
   "language": "python",
   "name": "python3"
  },
  "language_info": {
   "codemirror_mode": {
    "name": "ipython",
    "version": 3
   },
   "file_extension": ".py",
   "mimetype": "text/x-python",
   "name": "python",
   "nbconvert_exporter": "python",
   "pygments_lexer": "ipython3",
   "version": "3.6.3"
  }
 },
 "nbformat": 4,
 "nbformat_minor": 2
}
